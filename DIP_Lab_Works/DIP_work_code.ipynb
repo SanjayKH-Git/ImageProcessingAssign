{
 "cells": [
  {
   "cell_type": "code",
   "execution_count": 3,
   "metadata": {},
   "outputs": [],
   "source": [
    "import cv2\n",
    "#Gray scale Img\n",
    "gray_img=cv2.imread(r'Methi.jpg',0)\n",
    "cv2.imshow('Gray_Img',gray_img,)\n",
    "cv2.waitKey(0)\n",
    "cv2.destroyAllWindows()"
   ]
  },
  {
   "cell_type": "code",
   "execution_count": 7,
   "metadata": {},
   "outputs": [],
   "source": [
    "org_img = cv2.imread(r'Methi.jpg')\n",
    "#Scaling\n",
    "cv2.imshow('Original_Img',org_img)\n",
    "cv2.waitKey(0)\n",
    "h,w = org_img.shape[:2]\n",
    "cv2.imshow('Decreased_Resized_Img',cv2.resize(org_img,(w//2,h//2), interpolation=cv2.INTER_AREA))\n",
    "cv2.waitKey(0)\n",
    "cv2.imshow('Increased_Resized_Img',cv2.resize(org_img,(w+100,h+50), interpolation=cv2.INTER_AREA))\n",
    "cv2.waitKey(0)\n",
    "#Rotation\n",
    "center=(w//2,h//2)\n",
    "M=cv2.getRotationMatrix2D(center,90,1)\n",
    "rot_img=cv2.warpAffine(org_img,M,(w,h))\n",
    "cv2.imshow('Rotated_Img_90',rot_img)\n",
    "cv2.waitKey(0)\n",
    "M=cv2.getRotationMatrix2D(center,127,1)\n",
    "rot_img=cv2.warpAffine(org_img,M,(w,h))\n",
    "cv2.imshow('Rotated_Img_127',rot_img)\n",
    "cv2.waitKey(0)\n",
    "cv2.destroyAllWindows()"
   ]
  },
  {
   "cell_type": "code",
   "execution_count": 9,
   "metadata": {},
   "outputs": [
    {
     "name": "stderr",
     "output_type": "stream",
     "text": [
      "C:\\ProgramData\\Anaconda3\\lib\\site-packages\\ipykernel_launcher.py:12: RuntimeWarning: divide by zero encountered in true_divide\n",
      "  if sys.path[0] == '':\n"
     ]
    },
    {
     "name": "stdout",
     "output_type": "stream",
     "text": [
      "sum of imgs(Total no) =  3\n"
     ]
    }
   ],
   "source": [
    "#sum & Mean\n",
    "import os\n",
    "path=r'C:\\Users\\Sanjay-PC\\DIP\\DIP_Lab_Works\\img_dir'\n",
    "imgs=[]\n",
    "files=os.listdir(path) #List\n",
    "for file in files:\n",
    "    fpath=path+'\\\\'+file\n",
    "    imgs.append(cv2.imread(fpath))\n",
    "    \n",
    "for i,im in enumerate(imgs):\n",
    "    cv2.imshow(files[i],imgs[i])    \n",
    "    cv2.imshow('Mean of '+files[i],len(im)/im)\n",
    "print('sum of imgs(Total no) = ',i+1)    \n",
    "cv2.waitKey(0)\n",
    "cv2.destroyAllWindows()"
   ]
  },
  {
   "cell_type": "code",
   "execution_count": 10,
   "metadata": {},
   "outputs": [
    {
     "data": {
      "text/plain": [
       "13"
      ]
     },
     "execution_count": 10,
     "metadata": {},
     "output_type": "execute_result"
    }
   ],
   "source": [
    "#Gray Scale\n",
    "color_img=cv2.imread('Alas2.jpg')\n",
    "cv2.imshow('Original',color_img)\n",
    "cv2.waitKey(0)\n",
    "cv2.imshow('Gray_scale',cv2.cvtColor(color_img,cv2.COLOR_BGR2GRAY))\n",
    "cv2.waitKey(0)"
   ]
  },
  {
   "cell_type": "code",
   "execution_count": 14,
   "metadata": {},
   "outputs": [],
   "source": [
    "#Faster code/direct\n",
    "fast_gray_img=cv2.imread('Alas2.jpg',0)\n",
    "cv2.imshow('Faster_gray',fast_gray_img)\n",
    "cv2.waitKey(0)\n",
    "#Gray to Binary\n",
    "retval,bin_img=cv2.threshold(fast_gray_img,127,255,cv2.THRESH_BINARY)\n",
    "cv2.imshow('BIN_Img',bin_img)\n",
    "cv2.waitKey(0)\n",
    "cv2.destroyAllWindows()"
   ]
  },
  {
   "cell_type": "code",
   "execution_count": 15,
   "metadata": {},
   "outputs": [],
   "source": [
    "#color-sace\n",
    "o_img=cv2.imread('cmyk_paint.png')\n",
    "#BGR\n",
    "cv2.imshow('BGR',o_img)\n",
    "cv2.waitKey(0)\n",
    "#HSV\n",
    "cv2.imshow('HSV',cv2.cvtColor(o_img, cv2.COLOR_BGR2HSV))\n",
    "cv2.waitKey(0)\n",
    "cv2.imshow('LAB',cv2.cvtColor(o_img, cv2.COLOR_BGR2LAB))\n",
    "cv2.waitKey(0)\n",
    "cv2.destroyAllWindows()"
   ]
  },
  {
   "cell_type": "code",
   "execution_count": null,
   "metadata": {},
   "outputs": [],
   "source": [
    "#Create_Img\n",
    "import numpy as np\n",
    "img_arr=np.random.randint(255,size=(300,500),dtype=np.uint8) #Random 2D Array\n",
    "cv2.imshow('img_arr',img_arr)\n",
    "cv2.waitKey(0)\n",
    "cv2.destroyAllWindows()"
   ]
  },
  {
   "cell_type": "code",
   "execution_count": null,
   "metadata": {},
   "outputs": [],
   "source": []
  }
 ],
 "metadata": {
  "kernelspec": {
   "display_name": "Python 3",
   "language": "python",
   "name": "python3"
  },
  "language_info": {
   "codemirror_mode": {
    "name": "ipython",
    "version": 3
   },
   "file_extension": ".py",
   "mimetype": "text/x-python",
   "name": "python",
   "nbconvert_exporter": "python",
   "pygments_lexer": "ipython3",
   "version": "3.7.4"
  }
 },
 "nbformat": 4,
 "nbformat_minor": 2
}
